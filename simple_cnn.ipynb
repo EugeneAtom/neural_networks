{
 "cells": [
  {
   "cell_type": "code",
   "execution_count": 1,
   "metadata": {
    "collapsed": true
   },
   "outputs": [],
   "source": [
    "import numpy as np\n",
    "import matplotlib.pylab as plt\n",
    "import random\n",
    "import copy\n",
    "import pandas\n",
    "%matplotlib inline"
   ]
  },
  {
   "cell_type": "code",
   "execution_count": 2,
   "metadata": {
    "collapsed": true
   },
   "outputs": [],
   "source": [
    "import torch\n",
    "import torch.nn as nn\n",
    "from torch.autograd import Variable\n",
    "import torch.nn.functional as F\n",
    "from torch.autograd import Variable"
   ]
  },
  {
   "cell_type": "code",
   "execution_count": 3,
   "metadata": {
    "collapsed": true
   },
   "outputs": [],
   "source": [
    "def unpickle(file):\n",
    "    import pickle\n",
    "    with open(file, 'rb') as fo:\n",
    "        dict = pickle.load(fo, encoding='bytes')\n",
    "    return dict\n",
    "\n",
    "X = []\n",
    "Y = []\n",
    "for b in range(1, 5):\n",
    "    D = unpickle('./cifar-10-batches-py/data_batch_%s' % b)\n",
    "    X.append( D[b'data'].reshape((-1, 3, 32, 32)).astype('uint8') )\n",
    "    Y.append( np.array(D[b'labels']))\n",
    "X = np.vstack(X)\n",
    "Y = np.hstack(Y).astype('int')\n",
    "\n",
    "D = unpickle('./cifar-10-batches-py/test_batch')\n",
    "Xt = D[b'data'].reshape((-1, 3, 32, 32)).astype('uint8')\n",
    "Yt = np.array(D[b'labels']).astype('int')\n",
    "Lt = D[b'filenames']"
   ]
  },
  {
   "cell_type": "code",
   "execution_count": 4,
   "metadata": {},
   "outputs": [
    {
     "name": "stdout",
     "output_type": "stream",
     "text": [
      "Net (\n",
      "  (bn1): BatchNorm2d(3, eps=1e-05, momentum=0.1, affine=True)\n",
      "  (conv1): Conv2d(3, 20, kernel_size=(3, 3), stride=(1, 1))\n",
      "  (bn2): BatchNorm2d(20, eps=1e-05, momentum=0.1, affine=True)\n",
      "  (conv2): Conv2d(20, 40, kernel_size=(3, 3), stride=(1, 1))\n",
      "  (pool): MaxPool2d (size=(2, 2), stride=(2, 2), dilation=(1, 1))\n",
      "  (bn3): BatchNorm2d(40, eps=1e-05, momentum=0.1, affine=True)\n",
      "  (conv3): Conv2d(40, 80, kernel_size=(3, 3), stride=(1, 1))\n",
      "  (bn4): BatchNorm2d(80, eps=1e-05, momentum=0.1, affine=True)\n",
      "  (conv4): Conv2d(80, 40, kernel_size=(1, 1), stride=(1, 1))\n",
      "  (fc1): Linear (1440 -> 10)\n",
      "  (dropout): Dropout2d (p=0.4)\n",
      "  (out): LogSoftmax ()\n",
      ")\n"
     ]
    }
   ],
   "source": [
    "from torch.autograd import Variable\n",
    "import torch.nn as nn\n",
    "import torch.nn.functional as F\n",
    "\n",
    "\n",
    "class Net(nn.Module):\n",
    "    def __init__(self):\n",
    "        super(Net, self).__init__()\n",
    "        self.bn1 = torch.nn.BatchNorm2d(3)\n",
    "        self.conv1 = nn.Conv2d(3, 20, 3)\n",
    "        \n",
    "        self.bn2 = torch.nn.BatchNorm2d(20)\n",
    "        self.conv2 = nn.Conv2d(20, 40, 3)\n",
    "        \n",
    "        self.pool = nn.MaxPool2d(2, 2)\n",
    "        \n",
    "        self.bn3 = torch.nn.BatchNorm2d(40)\n",
    "        self.conv3 = nn.Conv2d(40, 80, 3)\n",
    "        \n",
    "        self.bn4 = torch.nn.BatchNorm2d(80)\n",
    "        self.conv4 = nn.Conv2d(80, 40, 1)\n",
    "        \n",
    "        self.fc1 = nn.Linear(40 * 6 * 6, 10)\n",
    "        \n",
    "        self.dropout = nn.Dropout2d(p=0.4)\n",
    "        self.out = nn.LogSoftmax()\n",
    "\n",
    "    def forward(self, x):\n",
    "        x = self.bn1(x)\n",
    "        x = self.conv1(x)\n",
    "        x = F.relu(x)\n",
    "        \n",
    "        x = self.bn2(x)\n",
    "        x = self.conv2(x)\n",
    "        x = F.relu(x)\n",
    "\n",
    "        x = self.pool(x)\n",
    "        \n",
    "        x = self.bn3(x)\n",
    "        x = self.conv3(x)\n",
    "        x = F.relu(x)\n",
    "        \n",
    "        x = self.bn4(x)\n",
    "        x = self.conv4(x)\n",
    "        x = F.relu(x)\n",
    "        \n",
    "        x = self.pool(x)      \n",
    "        \n",
    "        x = x.view(-1, 40 * 6 * 6)\n",
    "        x = F.relu(self.fc1(self.dropout(x)))\n",
    "        \n",
    "        return self.out(x)\n",
    "\n",
    "\n",
    "net = Net().cuda()\n",
    "print(net)"
   ]
  },
  {
   "cell_type": "code",
   "execution_count": 5,
   "metadata": {},
   "outputs": [
    {
     "name": "stdout",
     "output_type": "stream",
     "text": [
      "Done epoch 0 with loss 75.31276845932007\n",
      "Done epoch 1 with loss 62.5228431224823\n",
      "Done epoch 2 with loss 58.10370874404907\n",
      "Done epoch 3 with loss 55.23558866977692\n",
      "Done epoch 4 with loss 52.6036182641983\n",
      "Done epoch 5 with loss 50.82488131523132\n",
      "Done epoch 6 with loss 49.06254208087921\n",
      "Done epoch 7 with loss 47.65251874923706\n",
      "Done epoch 8 with loss 46.625537395477295\n",
      "Done epoch 9 with loss 45.59684956073761\n",
      "Done epoch 10 with loss 44.71550267934799\n",
      "Done epoch 11 with loss 43.85742449760437\n",
      "Done epoch 12 with loss 43.11403179168701\n",
      "Done epoch 13 with loss 42.50301259756088\n",
      "Done epoch 14 with loss 41.86160343885422\n",
      "Done epoch 15 with loss 41.31113928556442\n",
      "Done epoch 16 with loss 40.88734608888626\n",
      "Done epoch 17 with loss 40.352033734321594\n",
      "Done epoch 18 with loss 39.901476979255676\n",
      "Done epoch 19 with loss 39.42467415332794\n",
      "Done epoch 20 with loss 39.07567584514618\n",
      "Done epoch 21 with loss 38.85837197303772\n",
      "Done epoch 22 with loss 37.95506000518799\n",
      "Done epoch 23 with loss 37.82640993595123\n",
      "Done epoch 24 with loss 37.51710331439972\n",
      "2min 36s ± 0 ns per loop (mean ± std. dev. of 1 run, 1 loop each)\n"
     ]
    },
    {
     "data": {
      "image/png": "[encoded data removed]",
      "text/plain": [
       "<matplotlib.figure.Figure at 0x7efdbfbe5b00>"
      ]
     },
     "metadata": {},
     "output_type": "display_data"
    }
   ],
   "source": [
    "%%timeit -n 1 -r 1\n",
    "\n",
    "loss_fn = torch.nn.NLLLoss().cuda()\n",
    "\n",
    "learning_rate = 1e-3\n",
    "batch_size = 1000\n",
    "loss_curve = []\n",
    "\n",
    "optimizer = torch.optim.Adam(net.parameters(), lr=learning_rate)\n",
    "\n",
    "for iter in range(25):\n",
    "    Xperm = np.random.permutation(X.shape[0])\n",
    "    loss_acc = 0\n",
    "    for b in range(X.shape[0]//batch_size):\n",
    "        batch_idxs = Xperm[b*batch_size:(b+1)*batch_size]\n",
    "        x = Variable(torch.Tensor(X[batch_idxs].tolist())).cuda()\n",
    "        y = Variable(torch.LongTensor(Y[batch_idxs])).cuda()\n",
    "        y_pred = net(x)\n",
    "              \n",
    "        loss = loss_fn(y_pred, y)\n",
    "        loss_acc += loss.data[0]\n",
    "        optimizer.zero_grad()\n",
    "        loss.backward()\n",
    "        optimizer.step()\n",
    "    print('Done epoch %s with loss %s' % (iter, loss_acc))\n",
    "    loss_curve.append(loss_acc)\n",
    "    \n",
    "plt.plot(loss_curve)"
   ]
  },
  {
   "cell_type": "code",
   "execution_count": 6,
   "metadata": {
    "collapsed": true
   },
   "outputs": [],
   "source": [
    "net_parameters = net.state_dict()\n",
    "import pickle\n",
    "with open('./cnn_without_full_connection_1_25.pkl', 'wb') as f:\n",
    "    pickle.dump(net_parameters, f)"
   ]
  },
  {
   "cell_type": "code",
   "execution_count": 7,
   "metadata": {
    "collapsed": true
   },
   "outputs": [],
   "source": [
    "import pickle\n",
    "with open('./cnn_without_full_connection_1_25.pkl', 'rb') as f:\n",
    "    result_nets = pickle.load(f)\n",
    "\n",
    "net.load_state_dict(result_nets)"
   ]
  },
  {
   "cell_type": "code",
   "execution_count": 8,
   "metadata": {},
   "outputs": [
    {
     "name": "stdout",
     "output_type": "stream",
     "text": [
      "1.0482588052749633\n"
     ]
    }
   ],
   "source": [
    "net.load_state_dict(result_nets)\n",
    "net.train(False)\n",
    "x = Variable(torch.Tensor(Xt.tolist())).cuda()\n",
    "y = Variable(torch.LongTensor(Yt)).cuda()\n",
    "batch_size=2000\n",
    "loss_acc=0\n",
    "Xperm = np.random.permutation(Xt.shape[0])\n",
    "loss_fn = torch.nn.NLLLoss().cuda()\n",
    "for b in range(Xt.shape[0]//batch_size):\n",
    "        batch_idxs = Xperm[b*batch_size:(b+1)*batch_size]\n",
    "        x = Variable(torch.Tensor(Xt[batch_idxs].tolist()), volatile=True).cuda()\n",
    "        y = Variable(torch.LongTensor(Yt[batch_idxs]), volatile=True).cuda()\n",
    "        y_pred = net(x)\n",
    "              \n",
    "        loss = loss_fn(y_pred, y)\n",
    "        loss_acc += loss.data[0]\n",
    "print( loss_acc / 5 )"
   ]
  },
  {
   "cell_type": "code",
   "execution_count": 19,
   "metadata": {},
   "outputs": [
    {
     "name": "stdout",
     "output_type": "stream",
     "text": [
      "0.31412509083747864\n"
     ]
    }
   ],
   "source": [
    "net.load_state_dict(result_nets)\n",
    "net.train(False)\n",
    "x = Variable(torch.Tensor(Xt.tolist())).cuda()\n",
    "y = Variable(torch.LongTensor(Yt)).cuda()\n",
    "batch_size=5000\n",
    "loss_acc=0\n",
    "loss_fn = torch.nn.NLLLoss().cuda()\n",
    "for b in range(1,2):\n",
    "        x = Variable(torch.Tensor(Xt[b*batch_size:(b+1)*batch_size].tolist()), volatile=True).cuda()\n",
    "        y = Variable(torch.LongTensor(Yt[b*batch_size:(b+1)*batch_size]), volatile=True).cuda()\n",
    "        y_pred = net(x)\n",
    "              \n",
    "        loss = loss_fn(y_pred, y)\n",
    "        loss_acc += loss.data[0]\n",
    "print( loss_acc / 2 )"
   ]
  },
  {
   "cell_type": "code",
   "execution_count": 20,
   "metadata": {
    "collapsed": true
   },
   "outputs": [],
   "source": [
    "d = pandas.DataFrame()\n",
    "yt = Yt #.data.cpu().numpy() #\n",
    "d['id'] = range(1, len(yt)+1)\n",
    "for i in range(10):\n",
    "    y = np.zeros((len(Lt),), dtype='int')\n",
    "    y[yt == i] = 1\n",
    "    d['c%s' % i] = y"
   ]
  },
  {
   "cell_type": "code",
   "execution_count": 21,
   "metadata": {
    "collapsed": true
   },
   "outputs": [],
   "source": [
    "d.to_csv('./ground.csv', index=False)"
   ]
  },
  {
   "cell_type": "code",
   "execution_count": 22,
   "metadata": {},
   "outputs": [
    {
     "name": "stdout",
     "output_type": "stream",
     "text": [
      "id,c0,c1,c2,c3,c4,c5,c6,c7,c8,c9\n",
      "1,0,0,0,1,0,0,0,0,0,0\n",
      "2,0,0,0,0,0,0,0,0,1,0\n",
      "3,0,0,0,0,0,0,0,0,1,0\n",
      "4,1,0,0,0,0,0,0,0,0,0\n",
      "5,0,0,0,0,0,0,1,0,0,0\n",
      "6,0,0,0,0,0,0,1,0,0,0\n",
      "7,0,1,0,0,0,0,0,0,0,0\n",
      "8,0,0,0,0,0,0,1,0,0,0\n",
      "9,0,0,0,1,0,0,0,0,0,0\n",
      "9991,0,0,0,0,0,0,0,1,0,0\n",
      "9992,1,0,0,0,0,0,0,0,0,0\n",
      "9993,0,0,0,1,0,0,0,0,0,0\n",
      "9994,0,0,0,0,0,1,0,0,0,0\n",
      "9995,0,0,0,1,0,0,0,0,0,0\n",
      "9996,0,0,0,0,0,0,0,0,1,0\n",
      "9997,0,0,0,1,0,0,0,0,0,0\n",
      "9998,0,0,0,0,0,1,0,0,0,0\n",
      "9999,0,1,0,0,0,0,0,0,0,0\n",
      "10000,0,0,0,0,0,0,0,1,0,0\n"
     ]
    }
   ],
   "source": [
    "%%bash\n",
    "head ./ground.csv\n",
    "tail ./ground.csv"
   ]
  },
  {
   "cell_type": "code",
   "execution_count": 24,
   "metadata": {
    "collapsed": true
   },
   "outputs": [],
   "source": [
    "d = pandas.DataFrame()\n",
    "d['id'] = range(len(yt))\n",
    "yt = y_pred.data.cpu().numpy()\n",
    "for i in range(10):\n",
    "    d['c%s' % i] = np.exp(yt[:, i])"
   ]
  },
  {
   "cell_type": "code",
   "execution_count": 25,
   "metadata": {
    "collapsed": true
   },
   "outputs": [],
   "source": [
    "d.to_csv('./simple_cnn2.csv', index=False)"
   ]
  },
  {
   "cell_type": "code",
   "execution_count": null,
   "metadata": {
    "collapsed": true
   },
   "outputs": [],
   "source": []
  }
 ],
 "metadata": {
  "kernelspec": {
   "display_name": "Python 3",
   "language": "python",
   "name": "python3"
  },
  "language_info": {
   "codemirror_mode": {
    "name": "ipython",
    "version": 3
   },
   "file_extension": ".py",
   "mimetype": "text/x-python",
   "name": "python",
   "nbconvert_exporter": "python",
   "pygments_lexer": "ipython3",
   "version": "3.6.2"
  }
 },
 "nbformat": 4,
 "nbformat_minor": 2
}
